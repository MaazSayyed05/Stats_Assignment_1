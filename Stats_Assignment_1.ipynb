{
 "cells": [
  {
   "cell_type": "code",
   "execution_count": 1,
   "id": "f33dff73-19ce-473c-89e0-920d19a821cc",
   "metadata": {},
   "outputs": [],
   "source": [
    "# Q1\n",
    "# --> Statistics is a process of collecting, organizing and analyzing the data."
   ]
  },
  {
   "cell_type": "code",
   "execution_count": 2,
   "id": "ade0e4dc-02d5-408f-9b22-084cdbcef6e6",
   "metadata": {},
   "outputs": [],
   "source": [
    "# Q2\n",
    "# --> Two types of statistics namely, Descriptive and Inferential\n",
    "# 1. Descriptive--> \n",
    "# i. It consists of organizing and summarizing data.\n",
    "# ii. It includes Measure of Central Tendency(mean, median and mode), \n",
    "#     Measure of Dispersion(variance and standard deviation), \n",
    "#     Different types of distribution of data(E.g: Histogram, pdf,pmf,etc.)\n",
    "\n",
    "# 2. Inferential--> \n",
    "# i. It consists of using data you have measured to form conclusion.\n",
    "# ii. It includes Hypothesis Testing using z-test and t-test, stc.\n"
   ]
  },
  {
   "cell_type": "code",
   "execution_count": 3,
   "id": "28947d73-e8ba-4029-9649-e81248a3fa62",
   "metadata": {},
   "outputs": [],
   "source": [
    "# Q3\n",
    "# --> Two types of data i.e Qualitatuve and Quantitative\n",
    "# Qunative divided into two types--> Discrete and Continous\n",
    "# Qualitative divided into two types--> Nominal and Ordinal.\n",
    "\n",
    "# E.g:\n",
    "# 1. Qualitative(Categorical)--> It consists of data which can be divided into categories[E.g: Blood Group, Grade of Students, Gender,stc.]\n",
    "# 2. Quantitative(Numerical)--> It consists of data on which we can perform mathematical operations.[E.g: Marks of student, No. of children, heigths of students in class, etc.] \n",
    "\n",
    "# 1. Discrete--> It is a numerical data which is a whole number.[E.g: No. of children in a family, no. of students in a class, no. of employees in a office,etc.]\n",
    "# 2. Continous--> It is numerical data which can take any value(number).[E.g: height of students, temp. of room, etc.]\n",
    "\n",
    "# 1. Nominal--> It is cateogirical data which doesn't have any rank or order.[E.g: Favourite color of students in a class, Blood group of students, etc.]\n",
    "# 2. Ordinal--> It is categorical data which have rank or order.[E.g: Grading system of college(A, B, C, D, F),Feddback from customer(Best, Good, Bad), etc.]\n"
   ]
  },
  {
   "cell_type": "code",
   "execution_count": 4,
   "id": "45feb35e-8dee-4f51-b4d2-8a13c5ef17e2",
   "metadata": {},
   "outputs": [],
   "source": [
    "# Q4\n",
    "# i. Qualitative(precisely Ordinal)\n",
    "# ii. Qualitative(precisly Nominal)\n",
    "# iii. Quantitative(precisely Continous)\n",
    "# iv. Quantitaive(precisely Discrete)\n"
   ]
  },
  {
   "cell_type": "code",
   "execution_count": 5,
   "id": "cccdb81c-f668-42bc-8434-402381ee9103",
   "metadata": {},
   "outputs": [],
   "source": [
    "# Q5\n",
    "# --> Levels of measurement is of 4 types\n",
    "# 1. Nominal Scale Data--> Favourite color of students\n",
    "# 2. Ordinal Scale Data--> Grades of students in a subject\n",
    "# 3. Interval Scale Data--> Temp. variable\n",
    "# 4. Ratio Scale Data--> Students marks in class\n"
   ]
  },
  {
   "cell_type": "code",
   "execution_count": 1,
   "id": "fad81493-6321-4a7d-8584-e04edee00160",
   "metadata": {},
   "outputs": [],
   "source": [
    "# Q6\n",
    "# --> Knowing the level of measurement of your variables is important for two reasons.  Each of the levels of measurement provides a different level of detail.  Nominal provides the least amount of detail, ordinal provides the next highest amount of detail, and interval and ratio provide the most amount of detail."
   ]
  },
  {
   "cell_type": "code",
   "execution_count": 6,
   "id": "d4728976-c5d1-4da6-90a2-b406333ecbad",
   "metadata": {},
   "outputs": [],
   "source": [
    "# Q7\n",
    "# --> Nominal and Ordinal both belong to categorical data.\n",
    "# The main difference between them is that in nominal the categories does not have any order or rank, while on other hand order or rank is important.\n",
    "# E.g: Grades of students in a subject, Favourite color of students of class.\n",
    "# Here, both examples are categorical data but in first grades have order like , A>B>C>D>F and in another example colors don't have any order."
   ]
  },
  {
   "cell_type": "code",
   "execution_count": 7,
   "id": "b7d68422-5955-42b2-98b2-a3e86f6ea715",
   "metadata": {},
   "outputs": [],
   "source": [
    "# Q8\n",
    "# --> A Histogram is used to display data in terms of range."
   ]
  },
  {
   "cell_type": "code",
   "execution_count": 8,
   "id": "7d12bc85-52fb-4638-a108-c9baec7c7558",
   "metadata": {},
   "outputs": [],
   "source": [
    "# Q9\n",
    "# --> Two types of statistics namely, Descriptive and Inferential\n",
    "# 1. Descriptive--> \n",
    "# i. It consists of organizing and summarizing data.\n",
    "# ii. It includes Measure of Central Tendency(mean, median and mode), \n",
    "#     Measure of Dispersion(variance and standard deviation), \n",
    "#     Different types of distribution of data(E.g: Histogram, pdf,pmf,etc.)\n",
    "\n",
    "# 2. Inferential--> \n",
    "# i. It consists of using data you have measured to form conclusion.\n",
    "# ii. It includes Hypothesis Testing using z-test and t-test, stc.\n",
    "\n",
    "# E.g: Consider there are 10 classes in a college and we have collected the height of students in the class. Heights are given as [120,145,170,180.2, 145.5,149,190,...]\n",
    "# Here, two types of question can arise\n",
    "# 1. Descriptive: What is the mode and mean of height of entire classroom?\n",
    "# 2. Inferential: Are the height of students in classroom similar to what we expect in the entire college?\n"
   ]
  },
  {
   "cell_type": "code",
   "execution_count": 1,
   "id": "c96d9f82-6e3d-4e99-9922-95d7c217c98b",
   "metadata": {},
   "outputs": [],
   "source": [
    "# Q10\n",
    "# 1. Mean--> It is sum of data points divided by the size of data. It is used in dataset if it contains misssing values (NaN).\n",
    "# 2. Median--> It is middle element of data if size is odd and mean of two data points if size is even. It is used in dataset to fill missing values but it is especially used if dataset contain Outliers.\n",
    "# 3. Mode--> It is that data point which occurs maximum number of times in dataset. It is used if dataset has missing values and it is used  for categorical data. "
   ]
  },
  {
   "cell_type": "code",
   "execution_count": null,
   "id": "87aa049a-34ea-4491-9bdf-9e54fce24fc1",
   "metadata": {},
   "outputs": [],
   "source": []
  }
 ],
 "metadata": {
  "kernelspec": {
   "display_name": "Python 3 (ipykernel)",
   "language": "python",
   "name": "python3"
  },
  "language_info": {
   "codemirror_mode": {
    "name": "ipython",
    "version": 3
   },
   "file_extension": ".py",
   "mimetype": "text/x-python",
   "name": "python",
   "nbconvert_exporter": "python",
   "pygments_lexer": "ipython3",
   "version": "3.10.8"
  }
 },
 "nbformat": 4,
 "nbformat_minor": 5
}
